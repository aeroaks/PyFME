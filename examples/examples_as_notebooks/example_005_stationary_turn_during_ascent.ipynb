{
 "cells": [
  {
   "cell_type": "markdown",
   "metadata": {},
   "source": [
    "# EXAMPLE 005\n",
    "\n",
    "Cessna 172, ISA1976 integrated with Flat Earth (Euler angles).\n",
    "\n",
    "Example with trimmed aircraft:  stationary, turn during ascent.\n",
    "\n",
    "The main purpose of this example is to check if the aircraft trimmed \n",
    "in a given state maintains the trimmed flight condition."
   ]
  },
  {
   "cell_type": "code",
   "execution_count": 1,
   "metadata": {
    "collapsed": true
   },
   "outputs": [],
   "source": [
    "# -*- coding: utf-8 -*-"
   ]
  },
  {
   "cell_type": "markdown",
   "metadata": {},
   "source": [
    "Import python libreries needed."
   ]
  },
  {
   "cell_type": "code",
   "execution_count": 2,
   "metadata": {
    "collapsed": true
   },
   "outputs": [],
   "source": [
    "%matplotlib inline\n",
    "import numpy as np\n",
    "import matplotlib.pyplot as plt\n",
    "from mpl_toolkits.mplot3d import Axes3D"
   ]
  },
  {
   "cell_type": "markdown",
   "metadata": {},
   "source": [
    "Import PyFME classes"
   ]
  },
  {
   "cell_type": "code",
   "execution_count": 3,
   "metadata": {
    "collapsed": false
   },
   "outputs": [],
   "source": [
    "from pyfme.aircrafts import Cessna172\n",
    "from pyfme.environment.environment import Environment\n",
    "from pyfme.environment.atmosphere import ISA1976\n",
    "from pyfme.environment.gravity import VerticalConstant\n",
    "from pyfme.environment.wind import NoWind\n",
    "from pyfme.models.systems import EulerFlatEarth\n",
    "from pyfme.simulator import BatchSimulation\n",
    "from pyfme.utils.trimmer import steady_state_flight_trimmer"
   ]
  },
  {
   "cell_type": "markdown",
   "metadata": {},
   "source": [
    "Initialize variables"
   ]
  },
  {
   "cell_type": "code",
   "execution_count": 4,
   "metadata": {
    "collapsed": false
   },
   "outputs": [],
   "source": [
    "aircraft = Cessna172()\n",
    "atmosphere = ISA1976()\n",
    "gravity = VerticalConstant()\n",
    "wind = NoWind()\n",
    "environment = Environment(atmosphere, gravity, wind)"
   ]
  },
  {
   "cell_type": "markdown",
   "metadata": {},
   "source": [
    "Initial conditions"
   ]
  },
  {
   "cell_type": "code",
   "execution_count": 5,
   "metadata": {
    "collapsed": true
   },
   "outputs": [],
   "source": [
    "TAS = 45  # m/s\n",
    "h0 = 3000  # m\n",
    "psi0 = 1.0  # rad\n",
    "x0, y0 = 0, 0  # m\n",
    "turn_rate = 0.25  # rad/s\n",
    "gamma0 = 0.05  # rad"
   ]
  },
  {
   "cell_type": "markdown",
   "metadata": {},
   "source": [
    "Define system"
   ]
  },
  {
   "cell_type": "code",
   "execution_count": 6,
   "metadata": {
    "collapsed": true
   },
   "outputs": [],
   "source": [
    "system = EulerFlatEarth(lat=0, lon=0, h=h0, psi=psi0, x_earth=x0, y_earth=y0)\n",
    "\n",
    "not_trimmed_controls = {'delta_elevator': 0.05,\n",
    "                        'delta_aileron': 0.01 * np.sign(turn_rate),\n",
    "                        'delta_rudder': 0.01 * np.sign(turn_rate),\n",
    "                        'delta_t': 0.5}\n",
    "\n",
    "controls2trim = ['delta_elevator', 'delta_aileron', 'delta_rudder', 'delta_t']"
   ]
  },
  {
   "cell_type": "code",
   "execution_count": 7,
   "metadata": {
    "collapsed": false
   },
   "outputs": [
    {
     "name": "stdout",
     "output_type": "stream",
     "text": [
      "`gtol` termination condition is satisfied.\n",
      "Function evaluations: 14, initial cost: 3.4806e+01, final cost 4.9421e-03, first-order optimality 1.10e-09.\n"
     ]
    },
    {
     "name": "stderr",
     "output_type": "stream",
     "text": [
      "c:\\python35-32\\lib\\site-packages\\pyfme\\utils\\trimmer.py:138: RuntimeWarning: Trim process did not converge\n",
      "  warn(\"Trim process did not converge\", RuntimeWarning)\n"
     ]
    }
   ],
   "source": [
    "trimmed_ac, trimmed_sys, trimmed_env, results = steady_state_flight_trimmer(\n",
    "    aircraft, system, environment, TAS=TAS, controls_0=not_trimmed_controls,\n",
    "    controls2trim=controls2trim, gamma=gamma0, turn_rate=turn_rate, verbose=1)"
   ]
  },
  {
   "cell_type": "markdown",
   "metadata": {},
   "source": [
    "Steady state flight trimmer results"
   ]
  },
  {
   "cell_type": "code",
   "execution_count": 8,
   "metadata": {
    "collapsed": false
   },
   "outputs": [
    {
     "name": "stdout",
     "output_type": "stream",
     "text": [
      "delta_elevator =  -10.1681 deg\n",
      "delta_aileron =   -1.2980 deg\n",
      "delta_rudder =    4.7543 deg\n",
      "delta_t =    0.8857 %\n",
      "\n",
      "alpha =    9.0153 deg\n",
      "beta =  -14.3239 deg\n",
      "\n",
      "u =   43.0624 m/s\n",
      "v =  -11.1332 m/s\n",
      "w =    6.8322 m/s\n",
      "\n",
      "psi =   57.2958 deg\n",
      "theta =   -1.7740 deg\n",
      "phi =   47.4607 deg\n",
      "\n",
      "p =   0.0077 rad/s\n",
      "q =   0.1841 rad/s\n",
      "r =   0.1841 rad/s\n"
     ]
    }
   ],
   "source": [
    "print('delta_elevator = ',\"%8.4f\" % np.rad2deg(results['delta_elevator']), 'deg')\n",
    "print('delta_aileron = ', \"%8.4f\" % np.rad2deg(results['delta_aileron']), 'deg')\n",
    "print('delta_rudder = ', \"%8.4f\" % np.rad2deg(results['delta_rudder']), 'deg')\n",
    "print('delta_t = ', \"%8.4f\" % results['delta_t'], '%')\n",
    "print()\n",
    "print('alpha = ', \"%8.4f\" % np.rad2deg(results['alpha']), 'deg')\n",
    "print('beta = ', \"%8.4f\" % np.rad2deg(results['beta']), 'deg')\n",
    "print()\n",
    "print('u = ', \"%8.4f\" % results['u'], 'm/s')\n",
    "print('v = ', \"%8.4f\" % results['v'], 'm/s')\n",
    "print('w = ', \"%8.4f\" % results['w'], 'm/s')\n",
    "print()\n",
    "print('psi = ', \"%8.4f\" % np.rad2deg(psi0), 'deg')\n",
    "print('theta = ', \"%8.4f\" % np.rad2deg(results['theta']), 'deg')\n",
    "print('phi = ', \"%8.4f\" % np.rad2deg(results['phi']), 'deg')\n",
    "print()\n",
    "print('p =', \"%8.4f\" % results['p'], 'rad/s')\n",
    "print('q =', \"%8.4f\" % results['q'], 'rad/s')\n",
    "print('r =', \"%8.4f\" % results['r'], 'rad/s')"
   ]
  },
  {
   "cell_type": "markdown",
   "metadata": {},
   "source": [
    "Initialise simulation"
   ]
  },
  {
   "cell_type": "code",
   "execution_count": 9,
   "metadata": {
    "collapsed": true
   },
   "outputs": [],
   "source": [
    "my_simulation = BatchSimulation(trimmed_ac, trimmed_sys, trimmed_env)"
   ]
  },
  {
   "cell_type": "code",
   "execution_count": 10,
   "metadata": {
    "collapsed": true
   },
   "outputs": [],
   "source": [
    "tfin = 80  # seconds\n",
    "N = tfin * 100 + 1\n",
    "time = np.linspace(0, tfin, N)\n",
    "initial_controls = trimmed_ac.controls"
   ]
  },
  {
   "cell_type": "code",
   "execution_count": 11,
   "metadata": {
    "collapsed": true
   },
   "outputs": [],
   "source": [
    "controls = {}\n",
    "for control_name, control_value in initial_controls.items():\n",
    "    controls[control_name] = np.ones_like(time) * control_value\n",
    "\n",
    "my_simulation.set_controls(time, controls)"
   ]
  },
  {
   "cell_type": "code",
   "execution_count": 12,
   "metadata": {
    "collapsed": true
   },
   "outputs": [],
   "source": [
    "par_list = ['x_earth', 'y_earth', 'height',\n",
    "            'psi', 'theta', 'phi',\n",
    "            'u', 'v', 'w',\n",
    "            'v_north', 'v_east', 'v_down',\n",
    "            'p', 'q', 'r',\n",
    "            'alpha', 'beta', 'TAS',\n",
    "            'F_xb', 'F_yb', 'F_zb',\n",
    "            'M_xb', 'M_yb', 'M_zb']"
   ]
  },
  {
   "cell_type": "markdown",
   "metadata": {},
   "source": [
    "Run Simulation"
   ]
  },
  {
   "cell_type": "code",
   "execution_count": 13,
   "metadata": {
    "collapsed": true
   },
   "outputs": [],
   "source": [
    "my_simulation.set_par_dict(par_list)\n",
    "my_simulation.run_simulation()"
   ]
  },
  {
   "cell_type": "markdown",
   "metadata": {},
   "source": [
    "Plot results"
   ]
  },
  {
   "cell_type": "code",
   "execution_count": 14,
   "metadata": {
    "collapsed": true
   },
   "outputs": [],
   "source": [
    "plt.style.use('ggplot')"
   ]
  },
  {
   "cell_type": "code",
   "execution_count": 15,
   "metadata": {
    "collapsed": false,
    "scrolled": false
   },
   "outputs": [],
   "source": [
    "for ii in range(len(par_list) // 3):\n",
    "    three_params = par_list[3 * ii:3 * ii + 3]\n",
    "    fig, ax = plt.subplots(3, 1, sharex=True)\n",
    "    for jj, par in enumerate(three_params):\n",
    "        ax[jj].plot(time, my_simulation.par_dict[par])\n",
    "        ax[jj].set_ylabel(par)\n",
    "        ax[jj].set_xlabel('time (s)')\n",
    "\n",
    "fig = plt.figure()\n",
    "ax = Axes3D(fig)\n",
    "ax.plot(my_simulation.par_dict['x_earth'],\n",
    "        my_simulation.par_dict['y_earth'],\n",
    "        my_simulation.par_dict['height'])\n",
    "\n",
    "ax.plot(my_simulation.par_dict['x_earth'],\n",
    "        my_simulation.par_dict['y_earth'],\n",
    "        my_simulation.par_dict['height'] * 0)\n",
    "ax.set_xlabel('x_earth')\n",
    "ax.set_ylabel('y_earth')\n",
    "ax.set_zlabel('z_earth')\n",
    "\n",
    "plt.show()"
   ]
  }
 ],
 "metadata": {
  "anaconda-cloud": {},
  "celltoolbar": "Raw Cell Format",
  "kernelspec": {
   "display_name": "Python 3",
   "language": "python",
   "name": "python3"
  },
  "language_info": {
   "codemirror_mode": {
    "name": "ipython",
    "version": 3
   },
   "file_extension": ".py",
   "mimetype": "text/x-python",
   "name": "python",
   "nbconvert_exporter": "python",
   "pygments_lexer": "ipython3",
   "version": "3.5.1"
  }
 },
 "nbformat": 4,
 "nbformat_minor": 0
}
